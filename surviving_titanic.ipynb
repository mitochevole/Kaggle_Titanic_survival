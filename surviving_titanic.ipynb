{
 "cells": [
  {
   "cell_type": "markdown",
   "metadata": {},
   "source": [
    "### Predicting survival during Titanic shipwreck ###\n",
    "\n",
    "A  Kaggle challenge to practice on classification"
   ]
  },
  {
   "cell_type": "markdown",
   "metadata": {},
   "source": [
    "![alt text](titanic.jpg \"Titanic: A woman is harassed  by a tramp on the public transport and in the end she kills him\")"
   ]
  },
  {
   "cell_type": "code",
   "execution_count": 233,
   "metadata": {
    "collapsed": true
   },
   "outputs": [],
   "source": [
    "import matplotlib.pyplot as plt\n",
    "import seaborn as sns\n",
    "import numpy as np\n",
    "import pandas as pd\n",
    "plt.style.use('seaborn-dark')\n",
    "%matplotlib inline\n",
    "phi = (1+np.sqrt(5))/2\n",
    "plt.rcParams['figure.figsize'] = phi*5, 5"
   ]
  },
  {
   "cell_type": "markdown",
   "metadata": {},
   "source": [
    "#### Load the data and display first rows, quickly explore the dataset."
   ]
  },
  {
   "cell_type": "code",
   "execution_count": 234,
   "metadata": {},
   "outputs": [
    {
     "data": {
      "text/html": [
       "<div>\n",
       "<style>\n",
       "    .dataframe thead tr:only-child th {\n",
       "        text-align: right;\n",
       "    }\n",
       "\n",
       "    .dataframe thead th {\n",
       "        text-align: left;\n",
       "    }\n",
       "\n",
       "    .dataframe tbody tr th {\n",
       "        vertical-align: top;\n",
       "    }\n",
       "</style>\n",
       "<table border=\"1\" class=\"dataframe\">\n",
       "  <thead>\n",
       "    <tr style=\"text-align: right;\">\n",
       "      <th></th>\n",
       "      <th>PassengerId</th>\n",
       "      <th>Survived</th>\n",
       "      <th>Pclass</th>\n",
       "      <th>Name</th>\n",
       "      <th>Sex</th>\n",
       "      <th>Age</th>\n",
       "      <th>SibSp</th>\n",
       "      <th>Parch</th>\n",
       "      <th>Ticket</th>\n",
       "      <th>Fare</th>\n",
       "      <th>Cabin</th>\n",
       "      <th>Embarked</th>\n",
       "    </tr>\n",
       "  </thead>\n",
       "  <tbody>\n",
       "    <tr>\n",
       "      <th>0</th>\n",
       "      <td>1</td>\n",
       "      <td>0</td>\n",
       "      <td>3</td>\n",
       "      <td>Braund, Mr. Owen Harris</td>\n",
       "      <td>male</td>\n",
       "      <td>22.0</td>\n",
       "      <td>1</td>\n",
       "      <td>0</td>\n",
       "      <td>A/5 21171</td>\n",
       "      <td>7.2500</td>\n",
       "      <td>NaN</td>\n",
       "      <td>S</td>\n",
       "    </tr>\n",
       "    <tr>\n",
       "      <th>1</th>\n",
       "      <td>2</td>\n",
       "      <td>1</td>\n",
       "      <td>1</td>\n",
       "      <td>Cumings, Mrs. John Bradley (Florence Briggs Th...</td>\n",
       "      <td>female</td>\n",
       "      <td>38.0</td>\n",
       "      <td>1</td>\n",
       "      <td>0</td>\n",
       "      <td>PC 17599</td>\n",
       "      <td>71.2833</td>\n",
       "      <td>C85</td>\n",
       "      <td>C</td>\n",
       "    </tr>\n",
       "    <tr>\n",
       "      <th>2</th>\n",
       "      <td>3</td>\n",
       "      <td>1</td>\n",
       "      <td>3</td>\n",
       "      <td>Heikkinen, Miss. Laina</td>\n",
       "      <td>female</td>\n",
       "      <td>26.0</td>\n",
       "      <td>0</td>\n",
       "      <td>0</td>\n",
       "      <td>STON/O2. 3101282</td>\n",
       "      <td>7.9250</td>\n",
       "      <td>NaN</td>\n",
       "      <td>S</td>\n",
       "    </tr>\n",
       "    <tr>\n",
       "      <th>3</th>\n",
       "      <td>4</td>\n",
       "      <td>1</td>\n",
       "      <td>1</td>\n",
       "      <td>Futrelle, Mrs. Jacques Heath (Lily May Peel)</td>\n",
       "      <td>female</td>\n",
       "      <td>35.0</td>\n",
       "      <td>1</td>\n",
       "      <td>0</td>\n",
       "      <td>113803</td>\n",
       "      <td>53.1000</td>\n",
       "      <td>C123</td>\n",
       "      <td>S</td>\n",
       "    </tr>\n",
       "    <tr>\n",
       "      <th>4</th>\n",
       "      <td>5</td>\n",
       "      <td>0</td>\n",
       "      <td>3</td>\n",
       "      <td>Allen, Mr. William Henry</td>\n",
       "      <td>male</td>\n",
       "      <td>35.0</td>\n",
       "      <td>0</td>\n",
       "      <td>0</td>\n",
       "      <td>373450</td>\n",
       "      <td>8.0500</td>\n",
       "      <td>NaN</td>\n",
       "      <td>S</td>\n",
       "    </tr>\n",
       "  </tbody>\n",
       "</table>\n",
       "</div>"
      ],
      "text/plain": [
       "   PassengerId  Survived  Pclass  \\\n",
       "0            1         0       3   \n",
       "1            2         1       1   \n",
       "2            3         1       3   \n",
       "3            4         1       1   \n",
       "4            5         0       3   \n",
       "\n",
       "                                                Name     Sex   Age  SibSp  \\\n",
       "0                            Braund, Mr. Owen Harris    male  22.0      1   \n",
       "1  Cumings, Mrs. John Bradley (Florence Briggs Th...  female  38.0      1   \n",
       "2                             Heikkinen, Miss. Laina  female  26.0      0   \n",
       "3       Futrelle, Mrs. Jacques Heath (Lily May Peel)  female  35.0      1   \n",
       "4                           Allen, Mr. William Henry    male  35.0      0   \n",
       "\n",
       "   Parch            Ticket     Fare Cabin Embarked  \n",
       "0      0         A/5 21171   7.2500   NaN        S  \n",
       "1      0          PC 17599  71.2833   C85        C  \n",
       "2      0  STON/O2. 3101282   7.9250   NaN        S  \n",
       "3      0            113803  53.1000  C123        S  \n",
       "4      0            373450   8.0500   NaN        S  "
      ]
     },
     "execution_count": 234,
     "metadata": {},
     "output_type": "execute_result"
    }
   ],
   "source": [
    "df_train = pd.read_csv('train.csv')\n",
    "df_test = pd.read_csv('test.csv')\n",
    "df_train.head()"
   ]
  },
  {
   "cell_type": "code",
   "execution_count": 235,
   "metadata": {},
   "outputs": [
    {
     "name": "stdout",
     "output_type": "stream",
     "text": [
      "<class 'pandas.core.frame.DataFrame'>\n",
      "RangeIndex: 891 entries, 0 to 890\n",
      "Data columns (total 12 columns):\n",
      "PassengerId    891 non-null int64\n",
      "Survived       891 non-null int64\n",
      "Pclass         891 non-null int64\n",
      "Name           891 non-null object\n",
      "Sex            891 non-null object\n",
      "Age            714 non-null float64\n",
      "SibSp          891 non-null int64\n",
      "Parch          891 non-null int64\n",
      "Ticket         891 non-null object\n",
      "Fare           891 non-null float64\n",
      "Cabin          204 non-null object\n",
      "Embarked       889 non-null object\n",
      "dtypes: float64(2), int64(5), object(5)\n",
      "memory usage: 83.6+ KB\n"
     ]
    }
   ],
   "source": [
    "df_train.info()"
   ]
  },
  {
   "cell_type": "markdown",
   "metadata": {},
   "source": [
    "#### Are Jack and Rose on the boat?"
   ]
  },
  {
   "cell_type": "code",
   "execution_count": 236,
   "metadata": {},
   "outputs": [
    {
     "name": "stdout",
     "output_type": "stream",
     "text": [
      "Brewe, Dr. Arthur Jackson\n",
      "Aks, Mrs. Sam (Leah Rosen)\n",
      "Rosenbaum, Miss. Edith Louise\n",
      "Rosenshine, Mr. George (Mr George Thorne\")\"\n"
     ]
    }
   ],
   "source": [
    "import re\n",
    "names = df_train.append(df_test)['Name']\n",
    "for name in names:\n",
    "    if 'Rose' in name or 'Jack' in name:\n",
    "        print(name)"
   ]
  },
  {
   "cell_type": "markdown",
   "metadata": {},
   "source": [
    "No Jack and Rose :("
   ]
  },
  {
   "cell_type": "markdown",
   "metadata": {},
   "source": [
    "### Filling in missing values"
   ]
  },
  {
   "cell_type": "code",
   "execution_count": 237,
   "metadata": {},
   "outputs": [
    {
     "name": "stdout",
     "output_type": "stream",
     "text": [
      "(891, 12)\n",
      "PassengerId      0\n",
      "Survived         0\n",
      "Pclass           0\n",
      "Name             0\n",
      "Sex              0\n",
      "Age            177\n",
      "SibSp            0\n",
      "Parch            0\n",
      "Ticket           0\n",
      "Fare             0\n",
      "Cabin          687\n",
      "Embarked         2\n",
      "dtype: int64\n",
      "------------------------------\n",
      "------------------------------\n",
      "(418, 11)\n",
      "PassengerId      0\n",
      "Pclass           0\n",
      "Name             0\n",
      "Sex              0\n",
      "Age             86\n",
      "SibSp            0\n",
      "Parch            0\n",
      "Ticket           0\n",
      "Fare             1\n",
      "Cabin          327\n",
      "Embarked         0\n",
      "dtype: int64\n"
     ]
    }
   ],
   "source": [
    "print(df_train.shape)\n",
    "print(pd.isnull(df_train).sum())\n",
    "print('-'*30+'\\n'+'-'*30)\n",
    "print(df_test.shape)\n",
    "print(pd.isnull(df_test).sum())"
   ]
  },
  {
   "cell_type": "markdown",
   "metadata": {},
   "source": [
    "#### Age, Fare, Cabin and Embarked features present missing values. We need to take care of them separately. "
   ]
  },
  {
   "cell_type": "markdown",
   "metadata": {},
   "source": [
    "Many Cabin numbers are missing, plus, cabin number is probably not a relevant information, so let's drop the column as a whole."
   ]
  },
  {
   "cell_type": "code",
   "execution_count": 238,
   "metadata": {
    "collapsed": true
   },
   "outputs": [],
   "source": [
    "df_train = df_train.drop('Cabin',axis = 1)\n",
    "df_test = df_test.drop('Cabin',axis = 1)"
   ]
  },
  {
   "cell_type": "code",
   "execution_count": 239,
   "metadata": {},
   "outputs": [
    {
     "data": {
      "image/png": "[encoded data removed]",
      "text/plain": [
       "<matplotlib.figure.Figure at 0x7f58b78d63d0>"
      ]
     },
     "metadata": {},
     "output_type": "display_data"
    }
   ],
   "source": [
    "df_train['Embarked'].hist()\n",
    "plt.show()"
   ]
  },
  {
   "cell_type": "markdown",
   "metadata": {},
   "source": [
    "Let's assign the two missing Embarkation ports as S"
   ]
  },
  {
   "cell_type": "code",
   "execution_count": 240,
   "metadata": {
    "collapsed": true
   },
   "outputs": [],
   "source": [
    "df_train['Embarked'].fillna('S', inplace = True)"
   ]
  },
  {
   "cell_type": "code",
   "execution_count": 241,
   "metadata": {},
   "outputs": [
    {
     "data": {
      "image/png": "[encoded data removed]",
      "text/plain": [
       "<matplotlib.figure.Figure at 0x7f58b433dc90>"
      ]
     },
     "metadata": {},
     "output_type": "display_data"
    },
    {
     "data": {
      "image/png": "[encoded data removed]",
      "text/plain": [
       "<matplotlib.figure.Figure at 0x7f58b7017390>"
      ]
     },
     "metadata": {},
     "output_type": "display_data"
    }
   ],
   "source": [
    "sns.distplot(df_test['Fare'].dropna())\n",
    "plt.show()\n",
    "\n",
    "sns.boxplot(data = df_test, x = 'Pclass', y = 'Fare')\n",
    "plt.show()"
   ]
  },
  {
   "cell_type": "code",
   "execution_count": 242,
   "metadata": {},
   "outputs": [
    {
     "data": {
      "text/html": [
       "<div>\n",
       "<style>\n",
       "    .dataframe thead tr:only-child th {\n",
       "        text-align: right;\n",
       "    }\n",
       "\n",
       "    .dataframe thead th {\n",
       "        text-align: left;\n",
       "    }\n",
       "\n",
       "    .dataframe tbody tr th {\n",
       "        vertical-align: top;\n",
       "    }\n",
       "</style>\n",
       "<table border=\"1\" class=\"dataframe\">\n",
       "  <thead>\n",
       "    <tr style=\"text-align: right;\">\n",
       "      <th></th>\n",
       "      <th>PassengerId</th>\n",
       "      <th>Pclass</th>\n",
       "      <th>Name</th>\n",
       "      <th>Sex</th>\n",
       "      <th>Age</th>\n",
       "      <th>SibSp</th>\n",
       "      <th>Parch</th>\n",
       "      <th>Ticket</th>\n",
       "      <th>Fare</th>\n",
       "      <th>Embarked</th>\n",
       "    </tr>\n",
       "  </thead>\n",
       "  <tbody>\n",
       "    <tr>\n",
       "      <th>152</th>\n",
       "      <td>1044</td>\n",
       "      <td>3</td>\n",
       "      <td>Storey, Mr. Thomas</td>\n",
       "      <td>male</td>\n",
       "      <td>60.5</td>\n",
       "      <td>0</td>\n",
       "      <td>0</td>\n",
       "      <td>3701</td>\n",
       "      <td>NaN</td>\n",
       "      <td>S</td>\n",
       "    </tr>\n",
       "  </tbody>\n",
       "</table>\n",
       "</div>"
      ],
      "text/plain": [
       "     PassengerId  Pclass                Name   Sex   Age  SibSp  Parch Ticket  \\\n",
       "152         1044       3  Storey, Mr. Thomas  male  60.5      0      0   3701   \n",
       "\n",
       "     Fare Embarked  \n",
       "152   NaN        S  "
      ]
     },
     "execution_count": 242,
     "metadata": {},
     "output_type": "execute_result"
    }
   ],
   "source": [
    "df_test[pd.isnull(df_test['Fare'])]"
   ]
  },
  {
   "cell_type": "markdown",
   "metadata": {},
   "source": [
    "Since the Fares distributrion is skewed, let's replace the single missing Fare value with the median value for the given passenger \n",
    "class"
   ]
  },
  {
   "cell_type": "code",
   "execution_count": 243,
   "metadata": {
    "collapsed": true
   },
   "outputs": [],
   "source": [
    " median_fare = df_test[df_test['Pclass'] == 3 ]['Fare'].dropna().median()\n",
    "\n",
    "df_test['Fare'].fillna(median_fare,inplace = True)"
   ]
  },
  {
   "cell_type": "markdown",
   "metadata": {},
   "source": [
    "Age distribution in the train and test sets"
   ]
  },
  {
   "cell_type": "code",
   "execution_count": 244,
   "metadata": {},
   "outputs": [
    {
     "data": {
      "image/png": "[encoded data removed]",
      "text/plain": [
       "<matplotlib.figure.Figure at 0x7f58b421cc90>"
      ]
     },
     "metadata": {},
     "output_type": "display_data"
    }
   ],
   "source": [
    "\n",
    "sns.distplot(df_train['Age'].dropna(), label = 'train')\n",
    "sns.distplot(df_test['Age'].dropna(), label = 'test')\n",
    "plt.legend(loc = 'best')\n",
    "plt.show()"
   ]
  },
  {
   "cell_type": "markdown",
   "metadata": {},
   "source": [
    "In order to fill in missing Age values I will adopt a [K-Nearest Neighbors strategy](https://towardsdatascience.com/the-use-of-knn-for-missing-values-cf33d935c637), using only few of the features I will assign to the missing Ages a value that is the mean of the K passengers with more similar features. \n",
    "\n",
    "Before doing so, let's give numerical values to Embarked and Sex categorical values."
   ]
  },
  {
   "cell_type": "code",
   "execution_count": 245,
   "metadata": {
    "collapsed": true
   },
   "outputs": [],
   "source": [
    "embark_dict = {'S' : 1, 'Q' : 2, 'C' : 3}\n",
    "df_train['Embarked'] = df_train['Embarked'].map(embark_dict)\n",
    "df_test['Embarked'] = df_test['Embarked'].map(embark_dict)"
   ]
  },
  {
   "cell_type": "code",
   "execution_count": 246,
   "metadata": {
    "collapsed": true
   },
   "outputs": [],
   "source": [
    "sex_dict = { 'female' : 1 , 'male' : 0}\n",
    "df_train['Sex'] = df_train['Sex'].map(sex_dict)\n",
    "df_test['Sex'] = df_test['Sex'].map(sex_dict)"
   ]
  },
  {
   "cell_type": "code",
   "execution_count": 247,
   "metadata": {
    "collapsed": true
   },
   "outputs": [],
   "source": [
    "from scipy.spatial.distance import cdist\n",
    "\n",
    "num_features =['Pclass', 'SibSp','Parch','Fare', 'Embarked','Sex']\n",
    "\n",
    "def fill_age(df, k_neighbors):\n",
    "    df_num = df[num_features]\n",
    "    df_num_norm =pd.DataFrame()    \n",
    "    for c in df_num.columns:\n",
    "        df_num_norm[c] = (df_num[c] - df_num[c].min())/(df_num[c].max()-df_num[c].min())        \n",
    "    num_matrix = cdist(df_num_norm,df_num_norm, metric = 'euclidean')\n",
    "    df_distances = pd.DataFrame(num_matrix)\n",
    "    agenew = {}\n",
    "    for idx,row in df.iterrows():\n",
    "        agenew[row['PassengerId']] = row['Age']\n",
    "        if pd.isnull(row['Age']):\n",
    "            order = df_distances.iloc[idx,:].values.argsort()[:k_neighbors]\n",
    "            closest_to_target = df.iloc[order, :]\n",
    "            val =  closest_to_target['Age'].dropna().mean()\n",
    "            if not pd.isnull(val): \n",
    "                agenew[row['PassengerId']] = val\n",
    "            else:\n",
    "                agenew[row['PassengerId']] = df['Age'].median()\n",
    "    df['Age'] = df['PassengerId'].map(agenew)\n",
    "    return df"
   ]
  },
  {
   "cell_type": "code",
   "execution_count": 248,
   "metadata": {},
   "outputs": [],
   "source": [
    "df_train = fill_age(df_train,5)\n",
    "df_test = fill_age(df_test,5)"
   ]
  },
  {
   "cell_type": "code",
   "execution_count": 249,
   "metadata": {},
   "outputs": [
    {
     "name": "stdout",
     "output_type": "stream",
     "text": [
      "(891, 11)\n",
      "PassengerId    0\n",
      "Survived       0\n",
      "Pclass         0\n",
      "Name           0\n",
      "Sex            0\n",
      "Age            0\n",
      "SibSp          0\n",
      "Parch          0\n",
      "Ticket         0\n",
      "Fare           0\n",
      "Embarked       0\n",
      "dtype: int64\n",
      "---------------------------\n",
      " --------------------------\n",
      "(418, 10)\n",
      "PassengerId    0\n",
      "Pclass         0\n",
      "Name           0\n",
      "Sex            0\n",
      "Age            0\n",
      "SibSp          0\n",
      "Parch          0\n",
      "Ticket         0\n",
      "Fare           0\n",
      "Embarked       0\n",
      "dtype: int64\n"
     ]
    }
   ],
   "source": [
    "print(df_train.shape)\n",
    "print(pd.isnull(df_train).sum())\n",
    "print('---------------------------\\n --------------------------')\n",
    "print(df_test.shape)\n",
    "print(pd.isnull(df_test).sum())"
   ]
  },
  {
   "cell_type": "markdown",
   "metadata": {},
   "source": [
    "### Feature engineeering ###"
   ]
  },
  {
   "cell_type": "code",
   "execution_count": 250,
   "metadata": {
    "collapsed": true
   },
   "outputs": [],
   "source": [
    "for dataset in [df_train,df_test]:\n",
    "    dataset['Title'] = dataset.Name.str.extract(' ([A-Za-z]+)\\.', expand=False)"
   ]
  },
  {
   "cell_type": "code",
   "execution_count": 251,
   "metadata": {},
   "outputs": [
    {
     "data": {
      "image/png": "[encoded data removed]",
      "text/plain": [
       "<matplotlib.figure.Figure at 0x7f58b42cb5d0>"
      ]
     },
     "metadata": {},
     "output_type": "display_data"
    }
   ],
   "source": [
    "plt.figure(figsize=(15,4))\n",
    "df_train['Title'].hist( xrot = 90)\n",
    "plt.show()"
   ]
  },
  {
   "cell_type": "code",
   "execution_count": 252,
   "metadata": {},
   "outputs": [
    {
     "data": {
      "text/html": [
       "<div>\n",
       "<style>\n",
       "    .dataframe thead tr:only-child th {\n",
       "        text-align: right;\n",
       "    }\n",
       "\n",
       "    .dataframe thead th {\n",
       "        text-align: left;\n",
       "    }\n",
       "\n",
       "    .dataframe tbody tr th {\n",
       "        vertical-align: top;\n",
       "    }\n",
       "</style>\n",
       "<table border=\"1\" class=\"dataframe\">\n",
       "  <thead>\n",
       "    <tr style=\"text-align: right;\">\n",
       "      <th></th>\n",
       "      <th>Survived</th>\n",
       "      <th>0</th>\n",
       "      <th>1</th>\n",
       "    </tr>\n",
       "    <tr>\n",
       "      <th>Title</th>\n",
       "      <th></th>\n",
       "      <th></th>\n",
       "      <th></th>\n",
       "    </tr>\n",
       "  </thead>\n",
       "  <tbody>\n",
       "    <tr>\n",
       "      <th>Capt</th>\n",
       "      <td>0.000000</td>\n",
       "      <td>1</td>\n",
       "      <td>0</td>\n",
       "    </tr>\n",
       "    <tr>\n",
       "      <th>Col</th>\n",
       "      <td>0.500000</td>\n",
       "      <td>2</td>\n",
       "      <td>0</td>\n",
       "    </tr>\n",
       "    <tr>\n",
       "      <th>Countess</th>\n",
       "      <td>1.000000</td>\n",
       "      <td>0</td>\n",
       "      <td>1</td>\n",
       "    </tr>\n",
       "    <tr>\n",
       "      <th>Don</th>\n",
       "      <td>0.000000</td>\n",
       "      <td>1</td>\n",
       "      <td>0</td>\n",
       "    </tr>\n",
       "    <tr>\n",
       "      <th>Dr</th>\n",
       "      <td>0.428571</td>\n",
       "      <td>6</td>\n",
       "      <td>1</td>\n",
       "    </tr>\n",
       "    <tr>\n",
       "      <th>Jonkheer</th>\n",
       "      <td>0.000000</td>\n",
       "      <td>1</td>\n",
       "      <td>0</td>\n",
       "    </tr>\n",
       "    <tr>\n",
       "      <th>Lady</th>\n",
       "      <td>1.000000</td>\n",
       "      <td>0</td>\n",
       "      <td>1</td>\n",
       "    </tr>\n",
       "    <tr>\n",
       "      <th>Major</th>\n",
       "      <td>0.500000</td>\n",
       "      <td>2</td>\n",
       "      <td>0</td>\n",
       "    </tr>\n",
       "    <tr>\n",
       "      <th>Master</th>\n",
       "      <td>0.575000</td>\n",
       "      <td>40</td>\n",
       "      <td>0</td>\n",
       "    </tr>\n",
       "    <tr>\n",
       "      <th>Miss</th>\n",
       "      <td>0.697802</td>\n",
       "      <td>0</td>\n",
       "      <td>182</td>\n",
       "    </tr>\n",
       "    <tr>\n",
       "      <th>Mlle</th>\n",
       "      <td>1.000000</td>\n",
       "      <td>0</td>\n",
       "      <td>2</td>\n",
       "    </tr>\n",
       "    <tr>\n",
       "      <th>Mme</th>\n",
       "      <td>1.000000</td>\n",
       "      <td>0</td>\n",
       "      <td>1</td>\n",
       "    </tr>\n",
       "    <tr>\n",
       "      <th>Mr</th>\n",
       "      <td>0.156673</td>\n",
       "      <td>517</td>\n",
       "      <td>0</td>\n",
       "    </tr>\n",
       "    <tr>\n",
       "      <th>Mrs</th>\n",
       "      <td>0.792000</td>\n",
       "      <td>0</td>\n",
       "      <td>125</td>\n",
       "    </tr>\n",
       "    <tr>\n",
       "      <th>Ms</th>\n",
       "      <td>1.000000</td>\n",
       "      <td>0</td>\n",
       "      <td>1</td>\n",
       "    </tr>\n",
       "    <tr>\n",
       "      <th>Rev</th>\n",
       "      <td>0.000000</td>\n",
       "      <td>6</td>\n",
       "      <td>0</td>\n",
       "    </tr>\n",
       "    <tr>\n",
       "      <th>Sir</th>\n",
       "      <td>1.000000</td>\n",
       "      <td>1</td>\n",
       "      <td>0</td>\n",
       "    </tr>\n",
       "  </tbody>\n",
       "</table>\n",
       "</div>"
      ],
      "text/plain": [
       "          Survived    0    1\n",
       "Title                       \n",
       "Capt      0.000000    1    0\n",
       "Col       0.500000    2    0\n",
       "Countess  1.000000    0    1\n",
       "Don       0.000000    1    0\n",
       "Dr        0.428571    6    1\n",
       "Jonkheer  0.000000    1    0\n",
       "Lady      1.000000    0    1\n",
       "Major     0.500000    2    0\n",
       "Master    0.575000   40    0\n",
       "Miss      0.697802    0  182\n",
       "Mlle      1.000000    0    2\n",
       "Mme       1.000000    0    1\n",
       "Mr        0.156673  517    0\n",
       "Mrs       0.792000    0  125\n",
       "Ms        1.000000    0    1\n",
       "Rev       0.000000    6    0\n",
       "Sir       1.000000    1    0"
      ]
     },
     "execution_count": 252,
     "metadata": {},
     "output_type": "execute_result"
    }
   ],
   "source": [
    "pd.concat([\n",
    "    df_train[['Title','Survived']].groupby('Title').mean(), \n",
    "    pd.crosstab(df_train['Title'],df_train['Sex'])\n",
    "    ],\n",
    "    axis = 1)"
   ]
  },
  {
   "cell_type": "code",
   "execution_count": 253,
   "metadata": {
    "collapsed": true
   },
   "outputs": [],
   "source": [
    "for dataset in [df_train,df_test]:\n",
    "    dataset['Title'] = dataset['Title'].replace(['Mlle','Ms'],'Miss')\n",
    "    dataset['Title'] = dataset['Title'].replace('Mme','Mrs')\n",
    "    dataset['Title'] = dataset['Title'].replace(['Lady', 'Countess', 'Capt', 'Col',\\\n",
    "       'Don', 'Dr', 'Major', 'Rev', 'Sir', 'Jonkheer', 'Dona'], 'Rare')"
   ]
  },
  {
   "cell_type": "code",
   "execution_count": 254,
   "metadata": {},
   "outputs": [
    {
     "data": {
      "text/html": [
       "<div>\n",
       "<style>\n",
       "    .dataframe thead tr:only-child th {\n",
       "        text-align: right;\n",
       "    }\n",
       "\n",
       "    .dataframe thead th {\n",
       "        text-align: left;\n",
       "    }\n",
       "\n",
       "    .dataframe tbody tr th {\n",
       "        vertical-align: top;\n",
       "    }\n",
       "</style>\n",
       "<table border=\"1\" class=\"dataframe\">\n",
       "  <thead>\n",
       "    <tr style=\"text-align: right;\">\n",
       "      <th></th>\n",
       "      <th>Survived</th>\n",
       "      <th>0</th>\n",
       "      <th>1</th>\n",
       "    </tr>\n",
       "    <tr>\n",
       "      <th>Title</th>\n",
       "      <th></th>\n",
       "      <th></th>\n",
       "      <th></th>\n",
       "    </tr>\n",
       "  </thead>\n",
       "  <tbody>\n",
       "    <tr>\n",
       "      <th>Mr</th>\n",
       "      <td>0.156673</td>\n",
       "      <td>517</td>\n",
       "      <td>0</td>\n",
       "    </tr>\n",
       "    <tr>\n",
       "      <th>Rare</th>\n",
       "      <td>0.347826</td>\n",
       "      <td>20</td>\n",
       "      <td>3</td>\n",
       "    </tr>\n",
       "    <tr>\n",
       "      <th>Master</th>\n",
       "      <td>0.575000</td>\n",
       "      <td>40</td>\n",
       "      <td>0</td>\n",
       "    </tr>\n",
       "    <tr>\n",
       "      <th>Miss</th>\n",
       "      <td>0.702703</td>\n",
       "      <td>0</td>\n",
       "      <td>185</td>\n",
       "    </tr>\n",
       "    <tr>\n",
       "      <th>Mrs</th>\n",
       "      <td>0.793651</td>\n",
       "      <td>0</td>\n",
       "      <td>126</td>\n",
       "    </tr>\n",
       "  </tbody>\n",
       "</table>\n",
       "</div>"
      ],
      "text/plain": [
       "        Survived    0    1\n",
       "Title                     \n",
       "Mr      0.156673  517    0\n",
       "Rare    0.347826   20    3\n",
       "Master  0.575000   40    0\n",
       "Miss    0.702703    0  185\n",
       "Mrs     0.793651    0  126"
      ]
     },
     "execution_count": 254,
     "metadata": {},
     "output_type": "execute_result"
    }
   ],
   "source": [
    "pd.concat([\n",
    "    df_train[['Title','Survived']].groupby('Title').mean(), \n",
    "    pd.crosstab(df_train['Title'],df_train['Sex'])\n",
    "    ],\n",
    "    axis = 1).sort_values(  'Survived')"
   ]
  },
  {
   "cell_type": "code",
   "execution_count": 255,
   "metadata": {
    "collapsed": true
   },
   "outputs": [],
   "source": [
    "title_dict = { \n",
    "    'Mr' : 1,\n",
    "    'Rare' : 2,\n",
    "    'Master' : 3,\n",
    "    'Miss' : 4,\n",
    "    'Mrs' : 5\n",
    "}"
   ]
  },
  {
   "cell_type": "code",
   "execution_count": 256,
   "metadata": {
    "collapsed": true
   },
   "outputs": [],
   "source": [
    "df_train['Title'] = df_train['Title'].map(title_dict)\n",
    "df_test['Title'] = df_test['Title'].map(title_dict)\n"
   ]
  },
  {
   "cell_type": "markdown",
   "metadata": {
    "collapsed": true
   },
   "source": [
    "Drop Name and Ticket variables"
   ]
  },
  {
   "cell_type": "code",
   "execution_count": 257,
   "metadata": {
    "collapsed": true
   },
   "outputs": [],
   "source": [
    "df_train = df_train.drop('Name',axis = 1)\n",
    "df_test = df_test.drop('Name',axis = 1)\n",
    "df_train = df_train.drop('Ticket',axis = 1)\n",
    "df_test = df_test.drop('Ticket',axis = 1)"
   ]
  },
  {
   "cell_type": "markdown",
   "metadata": {},
   "source": [
    "Family size feature"
   ]
  },
  {
   "cell_type": "code",
   "execution_count": 258,
   "metadata": {
    "collapsed": true
   },
   "outputs": [],
   "source": [
    "df_train['Fsize'] = df_train['SibSp']+ df_train['Parch'] +1\n",
    "df_test['Fsize'] = df_test['SibSp']+ df_test['Parch'] +1"
   ]
  },
  {
   "cell_type": "code",
   "execution_count": 259,
   "metadata": {},
   "outputs": [
    {
     "data": {
      "image/png": "[encoded data removed]",
      "text/plain": [
       "<matplotlib.figure.Figure at 0x7f58b2b4fc90>"
      ]
     },
     "metadata": {},
     "output_type": "display_data"
    }
   ],
   "source": [
    "g = sns.factorplot(x=\"Fsize\",y=\"Survived\",data = df_train, kind = 'bar')\n",
    "g = g.set_ylabels(\"Survival Probability\")\n",
    "plt.show()"
   ]
  },
  {
   "cell_type": "code",
   "execution_count": 260,
   "metadata": {
    "collapsed": true
   },
   "outputs": [],
   "source": [
    "for df in [df_train,df_test]:\n",
    "    df['SingleF'] = df['Fsize'].map(lambda x : 1 if x ==1 else 0)\n",
    "    df['SmallF'] = df['Fsize'].map(lambda x : 1 if 2<=x<=4 else 0)\n",
    "    df['LargeF'] = df['Fsize'].map(lambda x : 1 if x >= 5 else 0)"
   ]
  },
  {
   "cell_type": "code",
   "execution_count": 263,
   "metadata": {},
   "outputs": [],
   "source": [
    "for df in [df_train,df_test]:\n",
    "    df.drop(['Fsize','SibSp','Parch'],axis = 1,inplace=True)"
   ]
  },
  {
   "cell_type": "markdown",
   "metadata": {},
   "source": [
    "### First attempt to classification ###"
   ]
  },
  {
   "cell_type": "code",
   "execution_count": 264,
   "metadata": {},
   "outputs": [
    {
     "data": {
      "text/html": [
       "<div>\n",
       "<style>\n",
       "    .dataframe thead tr:only-child th {\n",
       "        text-align: right;\n",
       "    }\n",
       "\n",
       "    .dataframe thead th {\n",
       "        text-align: left;\n",
       "    }\n",
       "\n",
       "    .dataframe tbody tr th {\n",
       "        vertical-align: top;\n",
       "    }\n",
       "</style>\n",
       "<table border=\"1\" class=\"dataframe\">\n",
       "  <thead>\n",
       "    <tr style=\"text-align: right;\">\n",
       "      <th></th>\n",
       "      <th>PassengerId</th>\n",
       "      <th>Survived</th>\n",
       "      <th>Pclass</th>\n",
       "      <th>Sex</th>\n",
       "      <th>Age</th>\n",
       "      <th>Fare</th>\n",
       "      <th>Embarked</th>\n",
       "      <th>Title</th>\n",
       "      <th>SingleF</th>\n",
       "      <th>SmallF</th>\n",
       "      <th>LargeF</th>\n",
       "    </tr>\n",
       "  </thead>\n",
       "  <tbody>\n",
       "    <tr>\n",
       "      <th>0</th>\n",
       "      <td>1</td>\n",
       "      <td>0</td>\n",
       "      <td>3</td>\n",
       "      <td>0</td>\n",
       "      <td>22.0</td>\n",
       "      <td>7.2500</td>\n",
       "      <td>1</td>\n",
       "      <td>1</td>\n",
       "      <td>0</td>\n",
       "      <td>1</td>\n",
       "      <td>0</td>\n",
       "    </tr>\n",
       "    <tr>\n",
       "      <th>1</th>\n",
       "      <td>2</td>\n",
       "      <td>1</td>\n",
       "      <td>1</td>\n",
       "      <td>1</td>\n",
       "      <td>38.0</td>\n",
       "      <td>71.2833</td>\n",
       "      <td>3</td>\n",
       "      <td>5</td>\n",
       "      <td>0</td>\n",
       "      <td>1</td>\n",
       "      <td>0</td>\n",
       "    </tr>\n",
       "    <tr>\n",
       "      <th>2</th>\n",
       "      <td>3</td>\n",
       "      <td>1</td>\n",
       "      <td>3</td>\n",
       "      <td>1</td>\n",
       "      <td>26.0</td>\n",
       "      <td>7.9250</td>\n",
       "      <td>1</td>\n",
       "      <td>4</td>\n",
       "      <td>1</td>\n",
       "      <td>0</td>\n",
       "      <td>0</td>\n",
       "    </tr>\n",
       "    <tr>\n",
       "      <th>3</th>\n",
       "      <td>4</td>\n",
       "      <td>1</td>\n",
       "      <td>1</td>\n",
       "      <td>1</td>\n",
       "      <td>35.0</td>\n",
       "      <td>53.1000</td>\n",
       "      <td>1</td>\n",
       "      <td>5</td>\n",
       "      <td>0</td>\n",
       "      <td>1</td>\n",
       "      <td>0</td>\n",
       "    </tr>\n",
       "    <tr>\n",
       "      <th>4</th>\n",
       "      <td>5</td>\n",
       "      <td>0</td>\n",
       "      <td>3</td>\n",
       "      <td>0</td>\n",
       "      <td>35.0</td>\n",
       "      <td>8.0500</td>\n",
       "      <td>1</td>\n",
       "      <td>1</td>\n",
       "      <td>1</td>\n",
       "      <td>0</td>\n",
       "      <td>0</td>\n",
       "    </tr>\n",
       "  </tbody>\n",
       "</table>\n",
       "</div>"
      ],
      "text/plain": [
       "   PassengerId  Survived  Pclass  Sex   Age     Fare  Embarked  Title  \\\n",
       "0            1         0       3    0  22.0   7.2500         1      1   \n",
       "1            2         1       1    1  38.0  71.2833         3      5   \n",
       "2            3         1       3    1  26.0   7.9250         1      4   \n",
       "3            4         1       1    1  35.0  53.1000         1      5   \n",
       "4            5         0       3    0  35.0   8.0500         1      1   \n",
       "\n",
       "   SingleF  SmallF  LargeF  \n",
       "0        0       1       0  \n",
       "1        0       1       0  \n",
       "2        1       0       0  \n",
       "3        0       1       0  \n",
       "4        1       0       0  "
      ]
     },
     "execution_count": 264,
     "metadata": {},
     "output_type": "execute_result"
    }
   ],
   "source": [
    "df_train.head()"
   ]
  },
  {
   "cell_type": "code",
   "execution_count": 265,
   "metadata": {
    "collapsed": true
   },
   "outputs": [],
   "source": [
    "y = df_train['Survived']\n",
    "X = df_train.drop('Survived',axis = 1, inplace=False)"
   ]
  },
  {
   "cell_type": "code",
   "execution_count": 266,
   "metadata": {
    "collapsed": true
   },
   "outputs": [],
   "source": [
    "from sklearn.model_selection import train_test_split\n",
    "X_train, X_cv, y_train, y_cv = train_test_split(X, y, test_size = 0.25, random_state = 0)"
   ]
  },
  {
   "cell_type": "code",
   "execution_count": 267,
   "metadata": {
    "collapsed": true
   },
   "outputs": [],
   "source": [
    "from sklearn.preprocessing import StandardScaler\n",
    "sc_X = StandardScaler()\n",
    "X_train = sc_X.fit_transform(X_train)\n",
    "X_cv = sc_X.transform(X_cv)"
   ]
  },
  {
   "cell_type": "markdown",
   "metadata": {},
   "source": [
    "Random Forest classification"
   ]
  },
  {
   "cell_type": "code",
   "execution_count": 271,
   "metadata": {},
   "outputs": [
    {
     "name": "stdout",
     "output_type": "stream",
     "text": [
      "82.9596412556\n",
      "[[126  13]\n",
      " [ 25  59]]\n"
     ]
    }
   ],
   "source": [
    "# Fitting Random Forest Classification to the Training set\n",
    "from sklearn.ensemble import RandomForestClassifier\n",
    "classifier = RandomForestClassifier(n_estimators = 50, criterion = 'gini')\n",
    "classifier.fit(X_train, y_train)\n",
    "\n",
    "\n",
    "\n",
    "# Predicting the Test set results\n",
    "y_pred = classifier.predict(X_cv)\n",
    "\n",
    "#Confusion Matrix\n",
    "from sklearn.metrics import confusion_matrix, accuracy_score\n",
    "cm = confusion_matrix(y_cv, y_pred)\n",
    "acc = accuracy_score(y_pred,y_cv)*100\n",
    "\n",
    "print(acc)\n",
    "print(cm)"
   ]
  },
  {
   "cell_type": "code",
   "execution_count": 269,
   "metadata": {},
   "outputs": [
    {
     "data": {
      "text/plain": [
       "GridSearchCV(cv=None, error_score='raise',\n",
       "       estimator=RandomForestClassifier(bootstrap=True, class_weight=None, criterion='gini',\n",
       "            max_depth=None, max_features='auto', max_leaf_nodes=None,\n",
       "            min_impurity_decrease=0.0, min_impurity_split=None,\n",
       "            min_samples_leaf=1, min_samples_split=2,\n",
       "            min_weight_fraction_leaf=0.0, n_estimators=10, n_jobs=1,\n",
       "            oob_score=False, random_state=None, verbose=0,\n",
       "            warm_start=False),\n",
       "       fit_params=None, iid=True, n_jobs=1,\n",
       "       param_grid={'n_estimators': [1, 10, 50, 100, 200], 'criterion': ['gini', 'entropy']},\n",
       "       pre_dispatch='2*n_jobs', refit=True, return_train_score=True,\n",
       "       scoring=None, verbose=0)"
      ]
     },
     "execution_count": 269,
     "metadata": {},
     "output_type": "execute_result"
    }
   ],
   "source": [
    "from sklearn.model_selection import GridSearchCV\n",
    "param_grid = {'n_estimators' : [1,10,50,100,200], 'criterion' : ['gini','entropy']}\n",
    "classifier = GridSearchCV(RandomForestClassifier(),param_grid,return_train_score= True)\n",
    "classifier.fit(X,y)"
   ]
  },
  {
   "cell_type": "code",
   "execution_count": 270,
   "metadata": {},
   "outputs": [
    {
     "name": "stdout",
     "output_type": "stream",
     "text": [
      "{'n_estimators': 50, 'criterion': 'gini'}\n"
     ]
    },
    {
     "data": {
      "text/html": [
       "<div>\n",
       "<style>\n",
       "    .dataframe thead tr:only-child th {\n",
       "        text-align: right;\n",
       "    }\n",
       "\n",
       "    .dataframe thead th {\n",
       "        text-align: left;\n",
       "    }\n",
       "\n",
       "    .dataframe tbody tr th {\n",
       "        vertical-align: top;\n",
       "    }\n",
       "</style>\n",
       "<table border=\"1\" class=\"dataframe\">\n",
       "  <thead>\n",
       "    <tr style=\"text-align: right;\">\n",
       "      <th></th>\n",
       "      <th>mean_fit_time</th>\n",
       "      <th>mean_score_time</th>\n",
       "      <th>mean_test_score</th>\n",
       "      <th>mean_train_score</th>\n",
       "      <th>param_criterion</th>\n",
       "      <th>param_n_estimators</th>\n",
       "      <th>params</th>\n",
       "      <th>rank_test_score</th>\n",
       "      <th>split0_test_score</th>\n",
       "      <th>split0_train_score</th>\n",
       "      <th>split1_test_score</th>\n",
       "      <th>split1_train_score</th>\n",
       "      <th>split2_test_score</th>\n",
       "      <th>split2_train_score</th>\n",
       "      <th>std_fit_time</th>\n",
       "      <th>std_score_time</th>\n",
       "      <th>std_test_score</th>\n",
       "      <th>std_train_score</th>\n",
       "    </tr>\n",
       "  </thead>\n",
       "  <tbody>\n",
       "    <tr>\n",
       "      <th>0</th>\n",
       "      <td>0.004119</td>\n",
       "      <td>0.000743</td>\n",
       "      <td>0.727273</td>\n",
       "      <td>0.904040</td>\n",
       "      <td>gini</td>\n",
       "      <td>1</td>\n",
       "      <td>{u'n_estimators': 1, u'criterion': u'gini'}</td>\n",
       "      <td>10</td>\n",
       "      <td>0.713805</td>\n",
       "      <td>0.915825</td>\n",
       "      <td>0.683502</td>\n",
       "      <td>0.890572</td>\n",
       "      <td>0.784512</td>\n",
       "      <td>0.905724</td>\n",
       "      <td>0.000192</td>\n",
       "      <td>0.000023</td>\n",
       "      <td>0.042323</td>\n",
       "      <td>0.010378</td>\n",
       "    </tr>\n",
       "    <tr>\n",
       "      <th>1</th>\n",
       "      <td>0.025974</td>\n",
       "      <td>0.001505</td>\n",
       "      <td>0.801347</td>\n",
       "      <td>0.977553</td>\n",
       "      <td>gini</td>\n",
       "      <td>10</td>\n",
       "      <td>{u'n_estimators': 10, u'criterion': u'gini'}</td>\n",
       "      <td>7</td>\n",
       "      <td>0.750842</td>\n",
       "      <td>0.973064</td>\n",
       "      <td>0.831650</td>\n",
       "      <td>0.978114</td>\n",
       "      <td>0.821549</td>\n",
       "      <td>0.981481</td>\n",
       "      <td>0.001875</td>\n",
       "      <td>0.000044</td>\n",
       "      <td>0.035950</td>\n",
       "      <td>0.003459</td>\n",
       "    </tr>\n",
       "    <tr>\n",
       "      <th>2</th>\n",
       "      <td>0.115951</td>\n",
       "      <td>0.004978</td>\n",
       "      <td>0.818182</td>\n",
       "      <td>1.000000</td>\n",
       "      <td>gini</td>\n",
       "      <td>50</td>\n",
       "      <td>{u'n_estimators': 50, u'criterion': u'gini'}</td>\n",
       "      <td>1</td>\n",
       "      <td>0.814815</td>\n",
       "      <td>1.000000</td>\n",
       "      <td>0.814815</td>\n",
       "      <td>1.000000</td>\n",
       "      <td>0.824916</td>\n",
       "      <td>1.000000</td>\n",
       "      <td>0.003667</td>\n",
       "      <td>0.000067</td>\n",
       "      <td>0.004762</td>\n",
       "      <td>0.000000</td>\n",
       "    </tr>\n",
       "    <tr>\n",
       "      <th>3</th>\n",
       "      <td>0.230318</td>\n",
       "      <td>0.009124</td>\n",
       "      <td>0.811448</td>\n",
       "      <td>1.000000</td>\n",
       "      <td>gini</td>\n",
       "      <td>100</td>\n",
       "      <td>{u'n_estimators': 100, u'criterion': u'gini'}</td>\n",
       "      <td>6</td>\n",
       "      <td>0.797980</td>\n",
       "      <td>1.000000</td>\n",
       "      <td>0.808081</td>\n",
       "      <td>1.000000</td>\n",
       "      <td>0.828283</td>\n",
       "      <td>1.000000</td>\n",
       "      <td>0.009462</td>\n",
       "      <td>0.000103</td>\n",
       "      <td>0.012598</td>\n",
       "      <td>0.000000</td>\n",
       "    </tr>\n",
       "    <tr>\n",
       "      <th>4</th>\n",
       "      <td>0.444828</td>\n",
       "      <td>0.017642</td>\n",
       "      <td>0.814815</td>\n",
       "      <td>1.000000</td>\n",
       "      <td>gini</td>\n",
       "      <td>200</td>\n",
       "      <td>{u'n_estimators': 200, u'criterion': u'gini'}</td>\n",
       "      <td>4</td>\n",
       "      <td>0.797980</td>\n",
       "      <td>1.000000</td>\n",
       "      <td>0.814815</td>\n",
       "      <td>1.000000</td>\n",
       "      <td>0.831650</td>\n",
       "      <td>1.000000</td>\n",
       "      <td>0.001127</td>\n",
       "      <td>0.000196</td>\n",
       "      <td>0.013746</td>\n",
       "      <td>0.000000</td>\n",
       "    </tr>\n",
       "    <tr>\n",
       "      <th>5</th>\n",
       "      <td>0.003748</td>\n",
       "      <td>0.000605</td>\n",
       "      <td>0.758698</td>\n",
       "      <td>0.918070</td>\n",
       "      <td>entropy</td>\n",
       "      <td>1</td>\n",
       "      <td>{u'n_estimators': 1, u'criterion': u'entropy'}</td>\n",
       "      <td>9</td>\n",
       "      <td>0.750842</td>\n",
       "      <td>0.934343</td>\n",
       "      <td>0.787879</td>\n",
       "      <td>0.914141</td>\n",
       "      <td>0.737374</td>\n",
       "      <td>0.905724</td>\n",
       "      <td>0.000025</td>\n",
       "      <td>0.000008</td>\n",
       "      <td>0.021354</td>\n",
       "      <td>0.012010</td>\n",
       "    </tr>\n",
       "    <tr>\n",
       "      <th>6</th>\n",
       "      <td>0.026296</td>\n",
       "      <td>0.001553</td>\n",
       "      <td>0.797980</td>\n",
       "      <td>0.983726</td>\n",
       "      <td>entropy</td>\n",
       "      <td>10</td>\n",
       "      <td>{u'n_estimators': 10, u'criterion': u'entropy'}</td>\n",
       "      <td>8</td>\n",
       "      <td>0.767677</td>\n",
       "      <td>0.983165</td>\n",
       "      <td>0.808081</td>\n",
       "      <td>0.984848</td>\n",
       "      <td>0.818182</td>\n",
       "      <td>0.983165</td>\n",
       "      <td>0.000719</td>\n",
       "      <td>0.000121</td>\n",
       "      <td>0.021821</td>\n",
       "      <td>0.000794</td>\n",
       "    </tr>\n",
       "    <tr>\n",
       "      <th>7</th>\n",
       "      <td>0.122863</td>\n",
       "      <td>0.004865</td>\n",
       "      <td>0.817059</td>\n",
       "      <td>0.998878</td>\n",
       "      <td>entropy</td>\n",
       "      <td>50</td>\n",
       "      <td>{u'n_estimators': 50, u'criterion': u'entropy'}</td>\n",
       "      <td>2</td>\n",
       "      <td>0.804714</td>\n",
       "      <td>1.000000</td>\n",
       "      <td>0.811448</td>\n",
       "      <td>1.000000</td>\n",
       "      <td>0.835017</td>\n",
       "      <td>0.996633</td>\n",
       "      <td>0.000588</td>\n",
       "      <td>0.000101</td>\n",
       "      <td>0.012992</td>\n",
       "      <td>0.001587</td>\n",
       "    </tr>\n",
       "    <tr>\n",
       "      <th>8</th>\n",
       "      <td>0.247907</td>\n",
       "      <td>0.009169</td>\n",
       "      <td>0.812570</td>\n",
       "      <td>1.000000</td>\n",
       "      <td>entropy</td>\n",
       "      <td>100</td>\n",
       "      <td>{u'n_estimators': 100, u'criterion': u'entropy'}</td>\n",
       "      <td>5</td>\n",
       "      <td>0.811448</td>\n",
       "      <td>1.000000</td>\n",
       "      <td>0.808081</td>\n",
       "      <td>1.000000</td>\n",
       "      <td>0.818182</td>\n",
       "      <td>1.000000</td>\n",
       "      <td>0.002123</td>\n",
       "      <td>0.000081</td>\n",
       "      <td>0.004199</td>\n",
       "      <td>0.000000</td>\n",
       "    </tr>\n",
       "    <tr>\n",
       "      <th>9</th>\n",
       "      <td>0.488445</td>\n",
       "      <td>0.017419</td>\n",
       "      <td>0.815937</td>\n",
       "      <td>1.000000</td>\n",
       "      <td>entropy</td>\n",
       "      <td>200</td>\n",
       "      <td>{u'n_estimators': 200, u'criterion': u'entropy'}</td>\n",
       "      <td>3</td>\n",
       "      <td>0.804714</td>\n",
       "      <td>1.000000</td>\n",
       "      <td>0.811448</td>\n",
       "      <td>1.000000</td>\n",
       "      <td>0.831650</td>\n",
       "      <td>1.000000</td>\n",
       "      <td>0.001733</td>\n",
       "      <td>0.000524</td>\n",
       "      <td>0.011446</td>\n",
       "      <td>0.000000</td>\n",
       "    </tr>\n",
       "  </tbody>\n",
       "</table>\n",
       "</div>"
      ],
      "text/plain": [
       "   mean_fit_time  mean_score_time  mean_test_score  mean_train_score  \\\n",
       "0       0.004119         0.000743         0.727273          0.904040   \n",
       "1       0.025974         0.001505         0.801347          0.977553   \n",
       "2       0.115951         0.004978         0.818182          1.000000   \n",
       "3       0.230318         0.009124         0.811448          1.000000   \n",
       "4       0.444828         0.017642         0.814815          1.000000   \n",
       "5       0.003748         0.000605         0.758698          0.918070   \n",
       "6       0.026296         0.001553         0.797980          0.983726   \n",
       "7       0.122863         0.004865         0.817059          0.998878   \n",
       "8       0.247907         0.009169         0.812570          1.000000   \n",
       "9       0.488445         0.017419         0.815937          1.000000   \n",
       "\n",
       "  param_criterion param_n_estimators  \\\n",
       "0            gini                  1   \n",
       "1            gini                 10   \n",
       "2            gini                 50   \n",
       "3            gini                100   \n",
       "4            gini                200   \n",
       "5         entropy                  1   \n",
       "6         entropy                 10   \n",
       "7         entropy                 50   \n",
       "8         entropy                100   \n",
       "9         entropy                200   \n",
       "\n",
       "                                             params  rank_test_score  \\\n",
       "0       {u'n_estimators': 1, u'criterion': u'gini'}               10   \n",
       "1      {u'n_estimators': 10, u'criterion': u'gini'}                7   \n",
       "2      {u'n_estimators': 50, u'criterion': u'gini'}                1   \n",
       "3     {u'n_estimators': 100, u'criterion': u'gini'}                6   \n",
       "4     {u'n_estimators': 200, u'criterion': u'gini'}                4   \n",
       "5    {u'n_estimators': 1, u'criterion': u'entropy'}                9   \n",
       "6   {u'n_estimators': 10, u'criterion': u'entropy'}                8   \n",
       "7   {u'n_estimators': 50, u'criterion': u'entropy'}                2   \n",
       "8  {u'n_estimators': 100, u'criterion': u'entropy'}                5   \n",
       "9  {u'n_estimators': 200, u'criterion': u'entropy'}                3   \n",
       "\n",
       "   split0_test_score  split0_train_score  split1_test_score  \\\n",
       "0           0.713805            0.915825           0.683502   \n",
       "1           0.750842            0.973064           0.831650   \n",
       "2           0.814815            1.000000           0.814815   \n",
       "3           0.797980            1.000000           0.808081   \n",
       "4           0.797980            1.000000           0.814815   \n",
       "5           0.750842            0.934343           0.787879   \n",
       "6           0.767677            0.983165           0.808081   \n",
       "7           0.804714            1.000000           0.811448   \n",
       "8           0.811448            1.000000           0.808081   \n",
       "9           0.804714            1.000000           0.811448   \n",
       "\n",
       "   split1_train_score  split2_test_score  split2_train_score  std_fit_time  \\\n",
       "0            0.890572           0.784512            0.905724      0.000192   \n",
       "1            0.978114           0.821549            0.981481      0.001875   \n",
       "2            1.000000           0.824916            1.000000      0.003667   \n",
       "3            1.000000           0.828283            1.000000      0.009462   \n",
       "4            1.000000           0.831650            1.000000      0.001127   \n",
       "5            0.914141           0.737374            0.905724      0.000025   \n",
       "6            0.984848           0.818182            0.983165      0.000719   \n",
       "7            1.000000           0.835017            0.996633      0.000588   \n",
       "8            1.000000           0.818182            1.000000      0.002123   \n",
       "9            1.000000           0.831650            1.000000      0.001733   \n",
       "\n",
       "   std_score_time  std_test_score  std_train_score  \n",
       "0        0.000023        0.042323         0.010378  \n",
       "1        0.000044        0.035950         0.003459  \n",
       "2        0.000067        0.004762         0.000000  \n",
       "3        0.000103        0.012598         0.000000  \n",
       "4        0.000196        0.013746         0.000000  \n",
       "5        0.000008        0.021354         0.012010  \n",
       "6        0.000121        0.021821         0.000794  \n",
       "7        0.000101        0.012992         0.001587  \n",
       "8        0.000081        0.004199         0.000000  \n",
       "9        0.000524        0.011446         0.000000  "
      ]
     },
     "execution_count": 270,
     "metadata": {},
     "output_type": "execute_result"
    }
   ],
   "source": [
    "print(classifier.best_params_)\n",
    "pd.DataFrame(classifier.cv_results_)"
   ]
  },
  {
   "cell_type": "markdown",
   "metadata": {},
   "source": [
    "Support vector machine classification"
   ]
  },
  {
   "cell_type": "code",
   "execution_count": 169,
   "metadata": {},
   "outputs": [
    {
     "name": "stdout",
     "output_type": "stream",
     "text": [
      "80.7174887892\n",
      "[[120  19]\n",
      " [ 24  60]]\n"
     ]
    }
   ],
   "source": [
    "from sklearn.svm import SVC\n",
    "classifier = SVC(kernel = 'rbf',random_state=0)\n",
    "classifier.fit(X_train, y_train)\n",
    "\n",
    "\n",
    "\n",
    "# Predicting the Test set results\n",
    "y_pred = classifier.predict(X_cv)\n",
    "\n",
    "# Making the Confusion Matrix\n",
    "from sklearn.metrics import confusion_matrix, accuracy_score\n",
    "cm = confusion_matrix(y_cv, y_pred)\n",
    "acc = accuracy_score(y_pred,y_cv)*100\n",
    "\n",
    "print(acc)\n",
    "print(cm)"
   ]
  },
  {
   "cell_type": "markdown",
   "metadata": {},
   "source": [
    "Naive Bayes classification"
   ]
  },
  {
   "cell_type": "code",
   "execution_count": 23,
   "metadata": {},
   "outputs": [
    {
     "name": "stdout",
     "output_type": "stream",
     "text": [
      "78.0269058296\n",
      "[[109  30]\n",
      " [ 19  65]]\n"
     ]
    }
   ],
   "source": [
    "from sklearn.naive_bayes import GaussianNB\n",
    "classifier = GaussianNB()\n",
    "classifier.fit(X_train, y_train)\n",
    "\n",
    "# Predicting the Test set results\n",
    "y_pred = classifier.predict(X_cv)\n",
    "\n",
    "# Making the Confusion Matrix\n",
    "from sklearn.metrics import confusion_matrix, accuracy_score\n",
    "cm = confusion_matrix(y_cv, y_pred)\n",
    "acc = accuracy_score(y_pred,y_cv)*100\n",
    "\n",
    "print(acc)\n",
    "print(cm)"
   ]
  },
  {
   "cell_type": "markdown",
   "metadata": {},
   "source": [
    "K-Nearest Neighbors Classification"
   ]
  },
  {
   "cell_type": "code",
   "execution_count": 24,
   "metadata": {},
   "outputs": [
    {
     "name": "stdout",
     "output_type": "stream",
     "text": [
      "82.9596412556\n",
      "[[122  17]\n",
      " [ 21  63]]\n"
     ]
    }
   ],
   "source": [
    "# Fitting K-NN to the Training set\n",
    "from sklearn.neighbors import KNeighborsClassifier\n",
    "classifier = KNeighborsClassifier(n_neighbors = 7, metric = 'minkowski', p = 3)\n",
    "classifier.fit(X_train, y_train)\n",
    "\n",
    "\n",
    "# Predicting the Test set results\n",
    "y_pred = classifier.predict(X_cv)\n",
    "\n",
    "# Making the Confusion Matrix\n",
    "from sklearn.metrics import confusion_matrix, accuracy_score\n",
    "cm = confusion_matrix(y_cv, y_pred)\n",
    "acc = accuracy_score(y_pred,y_cv)*100\n",
    "\n",
    "print(acc)\n",
    "print(cm)"
   ]
  },
  {
   "cell_type": "markdown",
   "metadata": {},
   "source": [
    "### Prepare submission ###"
   ]
  },
  {
   "cell_type": "code",
   "execution_count": 272,
   "metadata": {
    "collapsed": true
   },
   "outputs": [],
   "source": [
    "Submission=pd.DataFrame()\n",
    "Submission['PassengerId'] = df_test['PassengerId']\n",
    "Submission.set_index('PassengerId', inplace=True)"
   ]
  },
  {
   "cell_type": "code",
   "execution_count": 273,
   "metadata": {
    "collapsed": true
   },
   "outputs": [],
   "source": [
    "X_test = df_test\n",
    "X_test = sc_X.transform(X_test)\n",
    "y_pred = classifier.predict(X_test)"
   ]
  },
  {
   "cell_type": "code",
   "execution_count": 274,
   "metadata": {
    "collapsed": true
   },
   "outputs": [],
   "source": [
    "Submission['Survived']=y_pred"
   ]
  },
  {
   "cell_type": "code",
   "execution_count": 275,
   "metadata": {
    "collapsed": true
   },
   "outputs": [],
   "source": [
    "Submission.to_csv('submission.csv',sep=',')"
   ]
  }
 ],
 "metadata": {
  "anaconda-cloud": {},
  "kernelspec": {
   "display_name": "Python [conda root]",
   "language": "python",
   "name": "conda-root-py"
  },
  "language_info": {
   "codemirror_mode": {
    "name": "ipython",
    "version": 2
   },
   "file_extension": ".py",
   "mimetype": "text/x-python",
   "name": "python",
   "nbconvert_exporter": "python",
   "pygments_lexer": "ipython2",
   "version": "2.7.14"
  }
 },
 "nbformat": 4,
 "nbformat_minor": 2
}
